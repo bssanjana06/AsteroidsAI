{
 "cells": [
  {
   "cell_type": "code",
   "id": "initial_id",
   "metadata": {
    "collapsed": true,
    "jupyter": {
     "outputs_hidden": true
    },
    "ExecuteTime": {
     "end_time": "2024-06-26T13:35:45.609082Z",
     "start_time": "2024-06-26T13:35:45.603547Z"
    }
   },
   "source": [
    "import math\n",
    "import random\n",
    "import time\n",
    "import pygame\n",
    "import csv\n",
    "from datetime import date, datetime\n",
    "import os"
   ],
   "outputs": [],
   "execution_count": 11
  },
  {
   "cell_type": "code",
   "id": "88c2bb72ac1777a6",
   "metadata": {
    "ExecuteTime": {
     "end_time": "2024-06-26T13:35:47.924662Z",
     "start_time": "2024-06-26T13:35:46.954969Z"
    }
   },
   "source": [
    "pygame.init()\n",
    "pygame.mixer.init()\n",
    "pygame.font.init()\n",
    "font_score = pygame.font.SysFont('Bauhaus 93', 30)\n",
    "screen = pygame.display.set_mode((600, 600))\n",
    "clock = pygame.time.Clock()\n",
    "run = True\n",
    "DATA_FILE = \"game_data.csv\"\n",
    "game_date = date.today()\n",
    "game_time = datetime.now().time()\n",
    "game_time = game_time.strftime(\"%H:%M:%S\")"
   ],
   "outputs": [
    {
     "name": "stderr",
     "output_type": "stream",
     "text": [
      "2024-06-26 19:05:47.575 Python[19867:13819402] WARNING: Secure coding is not enabled for restorable state! Enable secure coding by implementing NSApplicationDelegate.applicationSupportsSecureRestorableState: and returning YES.\n"
     ]
    }
   ],
   "execution_count": 12
  },
  {
   "metadata": {
    "ExecuteTime": {
     "end_time": "2024-06-26T13:35:56.776854Z",
     "start_time": "2024-06-26T13:35:56.770271Z"
    }
   },
   "cell_type": "code",
   "source": [
    "file_exists = os.path.exists(DATA_FILE) == 1\n",
    "if file_exists:\n",
    "    file_empty = os.path.getsize(DATA_FILE) == 0\n",
    "else :\n",
    "    file_empty = True\n",
    "\n",
    "\n",
    "if not file_exists:\n",
    "    with open(DATA_FILE, 'w', newline='') as file:\n",
    "        writer = csv.writer(file)\n",
    "        if file_empty:\n",
    "            writer.writerow(['Game Date', 'Game Time', 'Elapsed Time', 'Reason', 'Score', 'Accuracy', 'Asteroids Hit'])\n",
    "\n",
    "with open(DATA_FILE, 'a', newline='') as file:\n",
    "    writer = csv.writer(file)\n",
    "    if file_empty:\n",
    "        writer.writerow(['Game Date', 'Game Time', 'Elapsed Time', 'Reason', 'Score', 'Accuracy', 'Asteroids Hit'])"
   ],
   "id": "c1961445ec78b715",
   "outputs": [],
   "execution_count": 13
  },
  {
   "metadata": {
    "ExecuteTime": {
     "end_time": "2024-06-26T13:35:58.120621Z",
     "start_time": "2024-06-26T13:35:58.117404Z"
    }
   },
   "cell_type": "code",
   "source": [
    "BLACK = (0, 0, 0)\n",
    "BULLET_SPEED = 5.5\n",
    "BULLET_RANGE = 600\n",
    "PILL_SPEED = 2.5\n",
    "PILL_RANGE = 700\n",
    "ASTEROID_SPEED = 2\n",
    "SPAWN_RATE = 25"
   ],
   "id": "2427337707c05e3",
   "outputs": [],
   "execution_count": 14
  },
  {
   "metadata": {
    "ExecuteTime": {
     "end_time": "2024-06-26T13:35:58.879594Z",
     "start_time": "2024-06-26T13:35:58.867288Z"
    }
   },
   "cell_type": "code",
   "source": [
    "# Load images\n",
    "rocket_img = pygame.image.load(\"resources/ship.png\").convert()\n",
    "rocket_img = pygame.transform.scale(rocket_img, (40, 40))\n",
    "rocket_img.set_colorkey(BLACK)\n",
    "rocket_img = pygame.transform.rotate(rocket_img, -90)\n",
    "shoot_sound = pygame.mixer.Sound(\"resources/bf.wav\")\n",
    "explo_sound = pygame.mixer.Sound(\"resources/explosion.wav\")\n",
    "\n",
    "ast_img1 = pygame.image.load(\"resources/ast1.png\")\n",
    "ast_img1 = pygame.transform.scale(ast_img1, (40, 40))\n",
    "ast_img1.set_colorkey(BLACK)\n",
    "\n",
    "ast_img2 = pygame.image.load(\"resources/ast2.png\")\n",
    "ast_img2 = pygame.transform.scale(ast_img2, (35, 35))\n",
    "ast_img2.set_colorkey(BLACK)\n",
    "\n",
    "ast_img3 = pygame.image.load(\"resources/ast3.png\")\n",
    "ast_img3 = pygame.transform.scale(ast_img3, (40, 40))\n",
    "ast_img3.set_colorkey(BLACK)\n",
    "\n",
    "ast_img4 = pygame.image.load(\"resources/ast4.png\")\n",
    "ast_img4 = pygame.transform.scale(ast_img4, (35, 35))\n",
    "ast_img4.set_colorkey(BLACK)\n",
    "\n",
    "pill_green=pygame.image.load(\"resources/bolt_gold.png\")\n",
    "pill_green=pygame.transform.scale(pill_green,(20,20))\n",
    "pill_green.set_colorkey(BLACK)\n",
    "\n",
    "ast_imgs = [ast_img1, ast_img2, ast_img3, ast_img4]"
   ],
   "id": "fe4db30a9158fed0",
   "outputs": [],
   "execution_count": 15
  },
  {
   "metadata": {
    "ExecuteTime": {
     "end_time": "2024-06-26T13:35:59.978742Z",
     "start_time": "2024-06-26T13:35:59.972146Z"
    }
   },
   "cell_type": "code",
   "source": [
    "class Game_Score:\n",
    "    def __init__(self):\n",
    "        self.asteroids_hit = 0\n",
    "        self.bullets_used = 0\n",
    "        self.score = 0\n",
    "        self.accuracy = 0\n",
    "\n",
    "    def asteroid_hit(self):\n",
    "        self.asteroids_hit += 1\n",
    "        self.update_score()\n",
    "\n",
    "    def bullet_fired(self):\n",
    "        self.bullets_used += 1\n",
    "        self.update_score()\n",
    "\n",
    "    def update_score(self):\n",
    "        self.score = (self.asteroids_hit * 100) - (self.bullets_used * 2)\n",
    "\n",
    "    def update_accuracy(self):\n",
    "        if self.bullets_used > 0:\n",
    "            self.accuracy = self.asteroids_hit / self.bullets_used\n",
    "        else:\n",
    "            self.accuracy = 0\n",
    "\n",
    "    def get_accuracy(self):\n",
    "        self.update_accuracy()\n",
    "        return round(self.accuracy, 2)\n",
    "\n",
    "    def get_score(self):\n",
    "        self.update_score()\n",
    "        return int(self.score)\n",
    "\n",
    "    def display_score(self, screen):\n",
    "        self.update_accuracy()\n",
    "        score_text = font_score.render(f'Score: {int(self.score)} Accuracy: {self.accuracy:.2f}', True, (255, 255, 255))\n",
    "        text_rect = score_text.get_rect()\n",
    "        screen.blit(score_text, (screen.get_width() - text_rect.width - 10, screen.get_height() - text_rect.height - 10))\n",
    "\n",
    "        health_text = font_score.render('H', True, (255, 255, 255))\n",
    "        health_text_rect = health_text.get_rect()\n",
    "        screen.blit(health_text, (5, 10))\n",
    "\n",
    "        fuel_text = font_score.render('F',True,(255,255,255))\n",
    "        fuel_text_rect = fuel_text.get_rect()\n",
    "        screen.blit(fuel_text,(screen.get_width()-118, 10))\n"
   ],
   "id": "c6c4ecf144bbe93e",
   "outputs": [],
   "execution_count": 16
  },
  {
   "metadata": {
    "ExecuteTime": {
     "end_time": "2024-06-26T13:36:00.575693Z",
     "start_time": "2024-06-26T13:36:00.571598Z"
    }
   },
   "cell_type": "code",
   "source": [
    "class Fuel_Pill(pygame.sprite.Sprite):\n",
    "    def __init__(self, position, direction):\n",
    "        super().__init__()\n",
    "        self.image = pygame.image.load(\"resources/bolt_gold.png\").convert_alpha()\n",
    "        self.image = pygame.transform.scale(self.image, (15, 25))\n",
    "        self.rect = self.image.get_rect(center=position)\n",
    "        self.position = pygame.Vector2(position)\n",
    "        self.direction = direction\n",
    "        self.distance = 0\n",
    "\n",
    "    def update(self):\n",
    "        self.position += self.direction * PILL_SPEED\n",
    "        self.distance += PILL_SPEED\n",
    "        self.rect.center = self.position\n",
    "        if self.distance > PILL_RANGE:\n",
    "            self.kill()\n"
   ],
   "id": "31f5a389d7bd3b1",
   "outputs": [],
   "execution_count": 17
  },
  {
   "metadata": {
    "ExecuteTime": {
     "end_time": "2024-06-26T13:36:01.244891Z",
     "start_time": "2024-06-26T13:36:01.241035Z"
    }
   },
   "cell_type": "code",
   "source": [
    "class Healthbar():\n",
    "    def __init__(self, x, y, w, h, maxh, over, below):\n",
    "        self.x = x\n",
    "        self.y = y\n",
    "        self.w = w\n",
    "        self.h = h\n",
    "        self.hp = maxh\n",
    "        self.max = maxh\n",
    "        self.over = over\n",
    "        self.below = below\n",
    "\n",
    "    def draw(self, screen):\n",
    "        pygame.draw.rect(screen, self.below, (self.x, self.y, self.w, self.h))\n",
    "        pygame.draw.rect(screen, self.over, (self.x, self.y, self.hp, self.h))"
   ],
   "id": "9318b7a1b45776ef",
   "outputs": [],
   "execution_count": 18
  },
  {
   "metadata": {
    "ExecuteTime": {
     "end_time": "2024-06-26T13:36:01.842718Z",
     "start_time": "2024-06-26T13:36:01.834722Z"
    }
   },
   "cell_type": "code",
   "source": [
    "class Rocket(pygame.sprite.Sprite):\n",
    "    def __init__(self):\n",
    "        super().__init__()\n",
    "        self.original_image = rocket_img\n",
    "        self.image = self.original_image.copy()\n",
    "        self.rect = self.image.get_rect(center=(screen.get_width()//2, screen.get_height()-100))\n",
    "        self.angle = 90\n",
    "        self.rotation_speed = 5\n",
    "        self.dx = 0.1\n",
    "        self.position = pygame.Vector2(self.rect.center)\n",
    "        self.x = pygame.Vector2(0, 2)\n",
    "        self.deceleration = 0.95\n",
    "\n",
    "    def update(self):\n",
    "        keys = pygame.key.get_pressed()\n",
    "\n",
    "        if keys[pygame.K_a] or keys[pygame.K_LEFT]:\n",
    "            self.x.x -= self.dx\n",
    "            fuel.hp -= 0.1 * (ASTEROID_SPEED/10)\n",
    "\n",
    "        if keys[pygame.K_d] or keys[pygame.K_RIGHT]:\n",
    "            self.x.x += self.dx\n",
    "            fuel.hp -= 0.1 * (ASTEROID_SPEED/10)\n",
    "\n",
    "        self.position += self.x\n",
    "        self.x *= self.deceleration\n",
    "        if self.position.x < 20:\n",
    "            self.position.x = 20\n",
    "\n",
    "        if self.position.x > screen.get_width()-20 :\n",
    "            self.position.x = screen.get_width()-20\n",
    "\n",
    "        self.image = pygame.transform.rotate(self.original_image, self.angle)\n",
    "        self.rect = self.image.get_rect(center=self.position)\n",
    "\n",
    "    def shoot(self):\n",
    "        bullet_dir = pygame.Vector2(math.cos(math.radians(self.angle)), -math.sin(math.radians(self.angle)))\n",
    "        bullet = Bullet(self.position, bullet_dir)\n",
    "        all_sprites.add(bullet)\n",
    "        bullets.add(bullet)"
   ],
   "id": "1f44a7e84b44db03",
   "outputs": [],
   "execution_count": 19
  },
  {
   "metadata": {
    "ExecuteTime": {
     "end_time": "2024-06-26T13:36:02.676124Z",
     "start_time": "2024-06-26T13:36:02.671148Z"
    }
   },
   "cell_type": "code",
   "source": [
    "class Bullet(pygame.sprite.Sprite):\n",
    "    def __init__(self, position, direction):\n",
    "        super().__init__()\n",
    "        self.image = pygame.image.load(\"resources/bullet.png\").convert_alpha()\n",
    "        self.image = pygame.transform.scale(self.image, (6, 6))\n",
    "        self.rect = self.image.get_rect(center=position)\n",
    "        self.position = pygame.Vector2(position)\n",
    "        self.direction = direction\n",
    "        self.distance = 0\n",
    "\n",
    "    def update(self):\n",
    "        self.position += self.direction * BULLET_SPEED\n",
    "        self.distance += BULLET_SPEED\n",
    "        self.rect.center = self.position\n",
    "        if self.distance > BULLET_RANGE:\n",
    "            self.kill()"
   ],
   "id": "dde454dc3f83825",
   "outputs": [],
   "execution_count": 20
  },
  {
   "metadata": {
    "ExecuteTime": {
     "end_time": "2024-06-26T13:36:03.183874Z",
     "start_time": "2024-06-26T13:36:03.178230Z"
    }
   },
   "cell_type": "code",
   "source": [
    "class Asteroid(pygame.sprite.Sprite):\n",
    "    def __init__(self, speed):\n",
    "        super().__init__()\n",
    "        self.image = random.choice(ast_imgs)\n",
    "        self.rect = self.image.get_rect()\n",
    "        self.rect.x = random.randint(0, screen.get_width())\n",
    "        self.rect.y = -50\n",
    "        self.direction = pygame.Vector2(random.uniform(-0.5, 0.5), 1).normalize()\n",
    "        self.position = pygame.Vector2(self.rect.topleft)\n",
    "        self.speed = speed\n",
    "\n",
    "    def update(self):\n",
    "        self.position += self.direction * (self.speed)\n",
    "        self.rect.center = self.position\n",
    "        if self.rect.top > screen.get_height() + 20 or self.rect.left < -20 or self.rect.right > screen.get_width() + 20:\n",
    "            self.kill()\n",
    "\n",
    "    def shoot(self):\n",
    "        pill_dir = pygame.Vector2(math.cos(math.radians(90)),math.sin(math.radians(90)))\n",
    "        pill = Fuel_Pill(self.position, pill_dir)\n",
    "        all_sprites.add(pill)\n",
    "        pills.add(pill)"
   ],
   "id": "d1133ed1cf40cc78",
   "outputs": [],
   "execution_count": 21
  },
  {
   "metadata": {
    "ExecuteTime": {
     "end_time": "2024-06-26T13:36:03.583093Z",
     "start_time": "2024-06-26T13:36:03.577749Z"
    }
   },
   "cell_type": "code",
   "source": [
    "def spawn_asteroid():\n",
    "    asteroid = Asteroid(ASTEROID_SPEED)\n",
    "    all_sprites.add(asteroid)\n",
    "    asteroids.add(asteroid)\n",
    "\n",
    "# Sprite groups\n",
    "all_sprites = pygame.sprite.Group()\n",
    "bullets = pygame.sprite.Group()\n",
    "asteroids = pygame.sprite.Group()\n",
    "pills = pygame.sprite.Group()\n",
    "\n",
    "# Create player\n",
    "player = Rocket()\n",
    "all_sprites.add(player)\n",
    "health = Healthbar(20, 10, 100, 15, 100, \"green\",\"red\")\n",
    "fuel = Healthbar(screen.get_width()-105, 10, 100, 15, 100, \"yellow\", \"black\")\n",
    "game_score = Game_Score()\n",
    "\n",
    "current_score = 0\n",
    "end = 0\n",
    "time_elap = 0\n",
    "player_accuracy = 0\n",
    "asteroids_hit = 0\n",
    "death_reason = \"\"\n",
    "asteroids_spawning = []\n",
    "\n",
    "frame_count = 0\n",
    "start = time.time()"
   ],
   "id": "cdbde8b51889113c",
   "outputs": [],
   "execution_count": 22
  },
  {
   "metadata": {
    "ExecuteTime": {
     "end_time": "2024-06-26T13:37:04.340922Z",
     "start_time": "2024-06-26T13:36:03.978523Z"
    }
   },
   "cell_type": "code",
   "source": [
    "while run:\n",
    "    game_score.display_score(screen)\n",
    "    if health.hp <= 0:\n",
    "        asteroids_hit = game_score.asteroids_hit\n",
    "        death_reason = \"Spacecraft Health 0\"\n",
    "        player.kill()\n",
    "        run = False\n",
    "        end = time.time()\n",
    "    elif fuel.hp <= 0:\n",
    "        death_reason = \"Spacecraft Fuel 0\"\n",
    "        player.kill()\n",
    "        run = False\n",
    "        end = time.time()\n",
    "\n",
    "    for event in pygame.event.get():\n",
    "        if event.type == pygame.QUIT:\n",
    "            asteroids_hit = game_score.asteroids_hit\n",
    "            death_reason = \"Player Quit\"\n",
    "            run = False\n",
    "            end = time.time()\n",
    "\n",
    "        elif event.type == pygame.KEYDOWN:\n",
    "            if event.key == pygame.K_SPACE:\n",
    "                game_score.bullet_fired()\n",
    "                player.shoot()\n",
    "                shoot_sound.play()\n",
    "\n",
    "    screen.fill('black')\n",
    "    all_sprites.update()\n",
    "    fuel.draw(screen)\n",
    "\n",
    "    for bullet in bullets:\n",
    "        for asteroid in asteroids:\n",
    "            if asteroid.rect.collidepoint(bullet.position.x, bullet.position.y):\n",
    "                game_score.asteroid_hit()\n",
    "                explo_sound.play()\n",
    "                bullet.kill()\n",
    "                mid = time.time()\n",
    "                if game_score.asteroids_hit%5 == 0 :\n",
    "                    asteroid.shoot()\n",
    "                asteroid.kill()\n",
    "                ASTEROID_SPEED += 0.15\n",
    "\n",
    "    for asteroid in asteroids :\n",
    "        if player.rect.collidepoint(asteroid.position.x,asteroid.position.y):\n",
    "            explo_sound.play()\n",
    "            asteroid.kill()\n",
    "            health.hp -= 15\n",
    "\n",
    "    for pill in pills :\n",
    "        if player.rect.collidepoint(pill.position.x,pill.position.y):\n",
    "            pill.kill()\n",
    "            fuel.hp += 10\n",
    "            if fuel.hp > fuel.max :\n",
    "                fuel.hp = fuel.max\n",
    "\n",
    "    frame_count += 1\n",
    "    if frame_count % SPAWN_RATE == 0:\n",
    "        spawn_asteroid()\n",
    "        asteroids_spawning.append(len(asteroids))\n",
    "\n",
    "    current_score = game_score.get_score()\n",
    "    player_accuracy = game_score.get_accuracy()\n",
    "    asteroids_hit = game_score.asteroids_hit\n",
    "    game_score.display_score(screen)\n",
    "    all_sprites.draw(screen)\n",
    "    health.draw(screen)\n",
    "    pygame.display.flip()\n",
    "    clock.tick(80)\n",
    "\n",
    "end = time.time()"
   ],
   "id": "d6ea77a708d5a14e",
   "outputs": [],
   "execution_count": 23
  },
  {
   "metadata": {
    "ExecuteTime": {
     "end_time": "2024-06-26T13:37:13.189458Z",
     "start_time": "2024-06-26T13:37:13.084621Z"
    }
   },
   "cell_type": "code",
   "source": [
    "pygame.quit()\n",
    "time_elap = (end - start)\n",
    "with open(DATA_FILE, 'a', newline='') as file:\n",
    "    writer = csv.writer(file)\n",
    "    writer.writerow([game_date, game_time, round(time_elap, 2), death_reason, current_score, player_accuracy, asteroids_hit])\n"
   ],
   "id": "8b80fe579f5d2ab4",
   "outputs": [],
   "execution_count": 24
  },
  {
   "metadata": {},
   "cell_type": "code",
   "outputs": [],
   "execution_count": null,
   "source": "",
   "id": "7d23b467fdf4327"
  }
 ],
 "metadata": {
  "kernelspec": {
   "display_name": "Python 3 (ipykernel)",
   "language": "python",
   "name": "python3"
  },
  "language_info": {
   "codemirror_mode": {
    "name": "ipython",
    "version": 3
   },
   "file_extension": ".py",
   "mimetype": "text/x-python",
   "name": "python",
   "nbconvert_exporter": "python",
   "pygments_lexer": "ipython3",
   "version": "3.10.6"
  }
 },
 "nbformat": 4,
 "nbformat_minor": 5
}
